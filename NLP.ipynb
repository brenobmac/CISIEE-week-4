{
 "cells": [
  {
   "cell_type": "markdown",
   "id": "f8e2b182",
   "metadata": {},
   "source": [
    "# CIS IEE - 4° Período (NLP)"
   ]
  },
  {
   "cell_type": "markdown",
   "id": "4f3b68db",
   "metadata": {},
   "source": [
    "## Analise do dataset"
   ]
  },
  {
   "cell_type": "code",
   "execution_count": 1,
   "id": "f2b19163",
   "metadata": {},
   "outputs": [
    {
     "name": "stderr",
     "output_type": "stream",
     "text": [
      "C:\\Users\\breno\\anaconda3\\lib\\site-packages\\scipy\\__init__.py:146: UserWarning: A NumPy version >=1.16.5 and <1.23.0 is required for this version of SciPy (detected version 1.24.3\n",
      "  warnings.warn(f\"A NumPy version >={np_minversion} and <{np_maxversion}\"\n"
     ]
    }
   ],
   "source": [
    "#Imports\n",
    "import numpy as np\n",
    "import pandas as pd\n",
    "import seaborn as sns\n",
    "import matplotlib.pyplot as plt\n",
    "import nltk\n",
    "import tensorflow as tf\n",
    "\n",
    "from nltk.corpus import stopwords\n",
    "from nltk.tokenize import word_tokenize\n",
    "from nltk.stem import WordNetLemmatizer\n",
    "import string\n",
    "\n",
    "from sklearn.feature_extraction.text import CountVectorizer, TfidfVectorizer\n",
    "\n",
    "from tensorflow.keras.preprocessing.text import Tokenizer\n",
    "from tensorflow.keras.models import Sequential\n",
    "from tensorflow.keras.layers import Embedding, SimpleRNN, Dense, LSTM, Bidirectional\n",
    "from sklearn.model_selection import train_test_split\n",
    "from sklearn.metrics import accuracy_score, precision_score, recall_score, f1_score\n"
   ]
  },
  {
   "cell_type": "code",
   "execution_count": 2,
   "id": "866eeecc",
   "metadata": {},
   "outputs": [
    {
     "data": {
      "text/html": [
       "<div>\n",
       "<style scoped>\n",
       "    .dataframe tbody tr th:only-of-type {\n",
       "        vertical-align: middle;\n",
       "    }\n",
       "\n",
       "    .dataframe tbody tr th {\n",
       "        vertical-align: top;\n",
       "    }\n",
       "\n",
       "    .dataframe thead th {\n",
       "        text-align: right;\n",
       "    }\n",
       "</style>\n",
       "<table border=\"1\" class=\"dataframe\">\n",
       "  <thead>\n",
       "    <tr style=\"text-align: right;\">\n",
       "      <th></th>\n",
       "      <th>reviewerID</th>\n",
       "      <th>asin</th>\n",
       "      <th>reviewerName</th>\n",
       "      <th>helpful</th>\n",
       "      <th>reviewText</th>\n",
       "      <th>overall</th>\n",
       "      <th>summary</th>\n",
       "      <th>unixReviewTime</th>\n",
       "      <th>reviewTime</th>\n",
       "    </tr>\n",
       "  </thead>\n",
       "  <tbody>\n",
       "    <tr>\n",
       "      <th>0</th>\n",
       "      <td>A2IBPI20UZIR0U</td>\n",
       "      <td>1384719342</td>\n",
       "      <td>cassandra tu \"Yeah, well, that's just like, u...</td>\n",
       "      <td>[0, 0]</td>\n",
       "      <td>Not much to write about here, but it does exac...</td>\n",
       "      <td>5.0</td>\n",
       "      <td>good</td>\n",
       "      <td>1393545600</td>\n",
       "      <td>02 28, 2014</td>\n",
       "    </tr>\n",
       "    <tr>\n",
       "      <th>1</th>\n",
       "      <td>A14VAT5EAX3D9S</td>\n",
       "      <td>1384719342</td>\n",
       "      <td>Jake</td>\n",
       "      <td>[13, 14]</td>\n",
       "      <td>The product does exactly as it should and is q...</td>\n",
       "      <td>5.0</td>\n",
       "      <td>Jake</td>\n",
       "      <td>1363392000</td>\n",
       "      <td>03 16, 2013</td>\n",
       "    </tr>\n",
       "    <tr>\n",
       "      <th>2</th>\n",
       "      <td>A195EZSQDW3E21</td>\n",
       "      <td>1384719342</td>\n",
       "      <td>Rick Bennette \"Rick Bennette\"</td>\n",
       "      <td>[1, 1]</td>\n",
       "      <td>The primary job of this device is to block the...</td>\n",
       "      <td>5.0</td>\n",
       "      <td>It Does The Job Well</td>\n",
       "      <td>1377648000</td>\n",
       "      <td>08 28, 2013</td>\n",
       "    </tr>\n",
       "    <tr>\n",
       "      <th>3</th>\n",
       "      <td>A2C00NNG1ZQQG2</td>\n",
       "      <td>1384719342</td>\n",
       "      <td>RustyBill \"Sunday Rocker\"</td>\n",
       "      <td>[0, 0]</td>\n",
       "      <td>Nice windscreen protects my MXL mic and preven...</td>\n",
       "      <td>5.0</td>\n",
       "      <td>GOOD WINDSCREEN FOR THE MONEY</td>\n",
       "      <td>1392336000</td>\n",
       "      <td>02 14, 2014</td>\n",
       "    </tr>\n",
       "    <tr>\n",
       "      <th>4</th>\n",
       "      <td>A94QU4C90B1AX</td>\n",
       "      <td>1384719342</td>\n",
       "      <td>SEAN MASLANKA</td>\n",
       "      <td>[0, 0]</td>\n",
       "      <td>This pop filter is great. It looks and perform...</td>\n",
       "      <td>5.0</td>\n",
       "      <td>No more pops when I record my vocals.</td>\n",
       "      <td>1392940800</td>\n",
       "      <td>02 21, 2014</td>\n",
       "    </tr>\n",
       "  </tbody>\n",
       "</table>\n",
       "</div>"
      ],
      "text/plain": [
       "       reviewerID        asin  \\\n",
       "0  A2IBPI20UZIR0U  1384719342   \n",
       "1  A14VAT5EAX3D9S  1384719342   \n",
       "2  A195EZSQDW3E21  1384719342   \n",
       "3  A2C00NNG1ZQQG2  1384719342   \n",
       "4   A94QU4C90B1AX  1384719342   \n",
       "\n",
       "                                       reviewerName   helpful  \\\n",
       "0  cassandra tu \"Yeah, well, that's just like, u...    [0, 0]   \n",
       "1                                              Jake  [13, 14]   \n",
       "2                     Rick Bennette \"Rick Bennette\"    [1, 1]   \n",
       "3                         RustyBill \"Sunday Rocker\"    [0, 0]   \n",
       "4                                     SEAN MASLANKA    [0, 0]   \n",
       "\n",
       "                                          reviewText  overall  \\\n",
       "0  Not much to write about here, but it does exac...      5.0   \n",
       "1  The product does exactly as it should and is q...      5.0   \n",
       "2  The primary job of this device is to block the...      5.0   \n",
       "3  Nice windscreen protects my MXL mic and preven...      5.0   \n",
       "4  This pop filter is great. It looks and perform...      5.0   \n",
       "\n",
       "                                 summary  unixReviewTime   reviewTime  \n",
       "0                                   good      1393545600  02 28, 2014  \n",
       "1                                   Jake      1363392000  03 16, 2013  \n",
       "2                   It Does The Job Well      1377648000  08 28, 2013  \n",
       "3          GOOD WINDSCREEN FOR THE MONEY      1392336000  02 14, 2014  \n",
       "4  No more pops when I record my vocals.      1392940800  02 21, 2014  "
      ]
     },
     "execution_count": 2,
     "metadata": {},
     "output_type": "execute_result"
    }
   ],
   "source": [
    "#Lendo o dataframe:\n",
    "df = pd.read_csv('Musical_instruments_reviews.csv', sep = \",\")\n",
    "df.head()"
   ]
  },
  {
   "cell_type": "code",
   "execution_count": 3,
   "id": "885fc85d",
   "metadata": {},
   "outputs": [
    {
     "name": "stdout",
     "output_type": "stream",
     "text": [
      "(10261, 9)\n"
     ]
    }
   ],
   "source": [
    "print(df.shape)"
   ]
  },
  {
   "cell_type": "markdown",
   "id": "f1cbb91d",
   "metadata": {},
   "source": [
    "A partir de uma analise inicial do head do dataframe, não parece ter nada de errado com as colunas. Vamos analisar as linhas contidas nele agora para ver se há valores faltando."
   ]
  },
  {
   "cell_type": "code",
   "execution_count": 4,
   "id": "b79ac590",
   "metadata": {},
   "outputs": [
    {
     "data": {
      "text/plain": [
       "reviewerID         0\n",
       "asin               0\n",
       "reviewerName      27\n",
       "helpful            0\n",
       "reviewText         7\n",
       "overall            0\n",
       "summary            0\n",
       "unixReviewTime     0\n",
       "reviewTime         0\n",
       "dtype: int64"
      ]
     },
     "execution_count": 4,
     "metadata": {},
     "output_type": "execute_result"
    }
   ],
   "source": [
    "#Checando por valores nulos:\n",
    "df.isnull().sum()"
   ]
  },
  {
   "cell_type": "markdown",
   "id": "c0ac9139",
   "metadata": {},
   "source": [
    "Podemos ver que existem alguns valores nulos presentes neles. Vamos trabalhar apenas em cima do reviewText para analisar se a rede é capaz de considerar o review como positivo ou negativo. <br> <br>\n",
    "A partir disso, vamos pegar apenas os casos em que os reviewTexts não foram nulos."
   ]
  },
  {
   "cell_type": "code",
   "execution_count": 5,
   "id": "e19112a5",
   "metadata": {},
   "outputs": [
    {
     "data": {
      "text/plain": [
       "5.0    6938\n",
       "4.0    2084\n",
       "3.0     772\n",
       "2.0     250\n",
       "1.0     217\n",
       "Name: overall, dtype: int64"
      ]
     },
     "execution_count": 5,
     "metadata": {},
     "output_type": "execute_result"
    }
   ],
   "source": [
    "df['overall'].value_counts()"
   ]
  },
  {
   "cell_type": "code",
   "execution_count": 6,
   "id": "037246e3",
   "metadata": {},
   "outputs": [
    {
     "data": {
      "image/png": "[encoded data removed]",
      "text/plain": [
       "<Figure size 720x360 with 1 Axes>"
      ]
     },
     "metadata": {
      "needs_background": "light"
     },
     "output_type": "display_data"
    }
   ],
   "source": [
    "ax = df['overall'].value_counts().sort_index().plot(kind = 'bar', title = 'Números de review por rating', figsize = (10,5))\n",
    "ax.set_xlabel(\"Rating\")\n",
    "\n",
    "plt.show()"
   ]
  },
  {
   "cell_type": "markdown",
   "id": "41c48cb8",
   "metadata": {},
   "source": [
    "Podemos ver que a grande maioria de reviews presentes no dataset são positivos."
   ]
  },
  {
   "cell_type": "code",
   "execution_count": 7,
   "id": "5e33e2a4",
   "metadata": {},
   "outputs": [
    {
     "data": {
      "text/html": [
       "<div>\n",
       "<style scoped>\n",
       "    .dataframe tbody tr th:only-of-type {\n",
       "        vertical-align: middle;\n",
       "    }\n",
       "\n",
       "    .dataframe tbody tr th {\n",
       "        vertical-align: top;\n",
       "    }\n",
       "\n",
       "    .dataframe thead th {\n",
       "        text-align: right;\n",
       "    }\n",
       "</style>\n",
       "<table border=\"1\" class=\"dataframe\">\n",
       "  <thead>\n",
       "    <tr style=\"text-align: right;\">\n",
       "      <th></th>\n",
       "      <th>reviewText</th>\n",
       "      <th>overall</th>\n",
       "    </tr>\n",
       "  </thead>\n",
       "  <tbody>\n",
       "    <tr>\n",
       "      <th>0</th>\n",
       "      <td>Not much to write about here, but it does exac...</td>\n",
       "      <td>5.0</td>\n",
       "    </tr>\n",
       "    <tr>\n",
       "      <th>1</th>\n",
       "      <td>The product does exactly as it should and is q...</td>\n",
       "      <td>5.0</td>\n",
       "    </tr>\n",
       "    <tr>\n",
       "      <th>2</th>\n",
       "      <td>The primary job of this device is to block the...</td>\n",
       "      <td>5.0</td>\n",
       "    </tr>\n",
       "    <tr>\n",
       "      <th>3</th>\n",
       "      <td>Nice windscreen protects my MXL mic and preven...</td>\n",
       "      <td>5.0</td>\n",
       "    </tr>\n",
       "    <tr>\n",
       "      <th>4</th>\n",
       "      <td>This pop filter is great. It looks and perform...</td>\n",
       "      <td>5.0</td>\n",
       "    </tr>\n",
       "  </tbody>\n",
       "</table>\n",
       "</div>"
      ],
      "text/plain": [
       "                                          reviewText  overall\n",
       "0  Not much to write about here, but it does exac...      5.0\n",
       "1  The product does exactly as it should and is q...      5.0\n",
       "2  The primary job of this device is to block the...      5.0\n",
       "3  Nice windscreen protects my MXL mic and preven...      5.0\n",
       "4  This pop filter is great. It looks and perform...      5.0"
      ]
     },
     "execution_count": 7,
     "metadata": {},
     "output_type": "execute_result"
    }
   ],
   "source": [
    "#Aqui vamos pegar apenas os reviews e suas respectivas notas, tirando os reviews em branco\n",
    "reviewTextScores = df[['reviewText', 'overall']].dropna()\n",
    "reviewTextScores.head()"
   ]
  },
  {
   "cell_type": "code",
   "execution_count": 8,
   "id": "46b2f9cf",
   "metadata": {},
   "outputs": [
    {
     "data": {
      "text/plain": [
       "reviewText    0\n",
       "overall       0\n",
       "dtype: int64"
      ]
     },
     "execution_count": 8,
     "metadata": {},
     "output_type": "execute_result"
    }
   ],
   "source": [
    "#Checando por valores nulos:\n",
    "reviewTextScores.isnull().sum()"
   ]
  },
  {
   "cell_type": "code",
   "execution_count": 9,
   "id": "5045652c",
   "metadata": {},
   "outputs": [
    {
     "data": {
      "text/plain": [
       "(10254, 2)"
      ]
     },
     "execution_count": 9,
     "metadata": {},
     "output_type": "execute_result"
    }
   ],
   "source": [
    "#Analise das dimensoes (10261 - 7 = 10254)\n",
    "reviewTextScores.shape"
   ]
  },
  {
   "cell_type": "markdown",
   "id": "fe431149",
   "metadata": {},
   "source": [
    "## Pré-processamento de dados"
   ]
  },
  {
   "cell_type": "code",
   "execution_count": 10,
   "id": "371840e9",
   "metadata": {},
   "outputs": [],
   "source": [
    "#Função para pré-processamento dos dados:\n",
    "\n",
    "def preprocess_text(text):\n",
    "    \n",
    "    # Tokenization para pré-processamento\n",
    "    tokens = word_tokenize(text)\n",
    "\n",
    "    # Lowercasing\n",
    "    tokens = [token.lower() for token in tokens]\n",
    "\n",
    "    # Remover pontuação\n",
    "    tokens = [token for token in tokens if token not in string.punctuation]\n",
    "\n",
    "    # Remover stopwords\n",
    "    stop_words = set(stopwords.words('english'))\n",
    "    tokens = [token for token in tokens if token not in stop_words]\n",
    "\n",
    "    # Lemmatization\n",
    "    lemmatizer = WordNetLemmatizer()\n",
    "    tokens = [lemmatizer.lemmatize(token) for token in tokens]\n",
    "\n",
    "    # Conversao de volta para texto\n",
    "    cleaned_text = ' '.join(tokens)\n",
    "    \n",
    "    return cleaned_text"
   ]
  },
  {
   "cell_type": "code",
   "execution_count": 11,
   "id": "01475ac2",
   "metadata": {},
   "outputs": [
    {
     "data": {
      "text/plain": [
       "\"Not much to write about here, but it does exactly what it's supposed to. filters out the pop sounds. now my recordings are much more crisp. it is one of the lowest prices pop filters on amazon so might as well buy it, they honestly work the same despite their pricing,\""
      ]
     },
     "execution_count": 11,
     "metadata": {},
     "output_type": "execute_result"
    }
   ],
   "source": [
    "#Visualização antes do pré-processamento\n",
    "\n",
    "reviewTextScores['reviewText'][0]"
   ]
  },
  {
   "cell_type": "code",
   "execution_count": 12,
   "id": "8aaca2dd",
   "metadata": {},
   "outputs": [],
   "source": [
    "#Aplicação da função de pré-processamento no nosso novo dataset\n",
    "\n",
    "reviewTextScores['reviewText'] = reviewTextScores['reviewText'].apply(preprocess_text)"
   ]
  },
  {
   "cell_type": "code",
   "execution_count": 13,
   "id": "bb8de6a5",
   "metadata": {},
   "outputs": [
    {
     "data": {
      "text/plain": [
       "\"much write exactly 's supposed filter pop sound recording much crisp one lowest price pop filter amazon might well buy honestly work despite pricing\""
      ]
     },
     "execution_count": 13,
     "metadata": {},
     "output_type": "execute_result"
    }
   ],
   "source": [
    "#Visualização após pré-processamento\n",
    "\n",
    "reviewTextScores['reviewText'][0]"
   ]
  },
  {
   "cell_type": "markdown",
   "id": "e656f165",
   "metadata": {},
   "source": [
    "## Tokenizing text w/ sklearn (BOW + TFIDF)"
   ]
  },
  {
   "cell_type": "code",
   "execution_count": 14,
   "id": "12a59488",
   "metadata": {},
   "outputs": [],
   "source": [
    "#Tokenização via BOW\n",
    "count_vectorizer = CountVectorizer()\n",
    "bow_matrix = count_vectorizer.fit_transform(reviewTextScores['reviewText'])\n",
    "\n",
    "#Tokenização via TFIDF\n",
    "tfidf_vectorizer = TfidfVectorizer()\n",
    "tfidf_matrix = tfidf_vectorizer.fit_transform(reviewTextScores['reviewText'])"
   ]
  },
  {
   "cell_type": "code",
   "execution_count": 15,
   "id": "5a3e269b",
   "metadata": {},
   "outputs": [
    {
     "name": "stderr",
     "output_type": "stream",
     "text": [
      "C:\\Users\\breno\\anaconda3\\lib\\site-packages\\sklearn\\utils\\deprecation.py:87: FutureWarning: Function get_feature_names is deprecated; get_feature_names is deprecated in 1.0 and will be removed in 1.2. Please use get_feature_names_out instead.\n",
      "  warnings.warn(msg, category=FutureWarning)\n"
     ]
    },
    {
     "data": {
      "text/plain": [
       "['00', '000', '000s', '001', '003', '004', '0045', '007', '008', '008ex']"
      ]
     },
     "execution_count": 15,
     "metadata": {},
     "output_type": "execute_result"
    }
   ],
   "source": [
    "#Visualização tokens BOW parcial\n",
    "\n",
    "count_vectorizer.get_feature_names()[0:10]"
   ]
  },
  {
   "cell_type": "code",
   "execution_count": 16,
   "id": "0b77e267",
   "metadata": {},
   "outputs": [
    {
     "data": {
      "text/plain": [
       "['00', '000', '000s', '001', '003', '004', '0045', '007', '008', '008ex']"
      ]
     },
     "execution_count": 16,
     "metadata": {},
     "output_type": "execute_result"
    }
   ],
   "source": [
    "#Visualização tokens TFIDF parcial\n",
    "\n",
    "tfidf_vectorizer.get_feature_names()[0:10]"
   ]
  },
  {
   "cell_type": "markdown",
   "id": "aa05dccc",
   "metadata": {},
   "source": [
    "## Tokenizer com Tensorflow + padding"
   ]
  },
  {
   "cell_type": "code",
   "execution_count": 17,
   "id": "c2c4379a",
   "metadata": {},
   "outputs": [],
   "source": [
    "#Início da tokenização - setup do vocabulario total + tokenizer\n",
    "\n",
    "max_vocab_size = 10000  # Número máximo de palavras no vocabulario\n",
    "tokenizer = Tokenizer(num_words=max_vocab_size, oov_token='<OOV>')  # '<OOV>' = \"out-of-vocabulary\" "
   ]
  },
  {
   "cell_type": "code",
   "execution_count": 18,
   "id": "644af377",
   "metadata": {},
   "outputs": [],
   "source": [
    "texts = reviewTextScores['reviewText'].tolist()  #Fazer lista de strings para colocar no tokenizer\n",
    "tokenizer.fit_on_texts(texts)\n",
    "sequences = tokenizer.texts_to_sequences(texts) #Transformação do texto em sequências de inteiros\n",
    "word_index = tokenizer.word_index"
   ]
  },
  {
   "cell_type": "code",
   "execution_count": 19,
   "id": "e4968cd0",
   "metadata": {},
   "outputs": [
    {
     "data": {
      "text/plain": [
       "[23,\n",
       " 1604,\n",
       " 318,\n",
       " 4,\n",
       " 594,\n",
       " 502,\n",
       " 434,\n",
       " 6,\n",
       " 130,\n",
       " 23,\n",
       " 1122,\n",
       " 5,\n",
       " 2084,\n",
       " 18,\n",
       " 434,\n",
       " 502,\n",
       " 180,\n",
       " 181,\n",
       " 13,\n",
       " 50,\n",
       " 938,\n",
       " 14,\n",
       " 1194,\n",
       " 2927]"
      ]
     },
     "execution_count": 19,
     "metadata": {},
     "output_type": "execute_result"
    }
   ],
   "source": [
    "sequences[0]"
   ]
  },
  {
   "cell_type": "code",
   "execution_count": 20,
   "id": "f629ce45",
   "metadata": {},
   "outputs": [
    {
     "data": {
      "text/plain": [
       "\"much write exactly 's supposed filter pop sound recording much crisp one lowest price pop filter amazon might well buy honestly work despite pricing\""
      ]
     },
     "execution_count": 20,
     "metadata": {},
     "output_type": "execute_result"
    }
   ],
   "source": [
    "texts[0]"
   ]
  },
  {
   "cell_type": "code",
   "execution_count": 21,
   "id": "af3c074d",
   "metadata": {},
   "outputs": [
    {
     "name": "stdout",
     "output_type": "stream",
     "text": [
      "O token de 'much' é: 23\n",
      "O token de 'write' é: 1604\n",
      "O token de 'exactly' é: 318\n",
      "O token de ''s' é: 4\n",
      "O token de 'supposed' é: 594\n",
      "O token de 'filter' é: 502\n",
      "O token de 'pop' é: 434\n",
      "O token de 'sound' é: 6\n",
      "O token de 'recording' é: 130\n",
      "O token de 'much' é: 23\n",
      "O token de 'crisp' é: 1122\n",
      "O token de 'one' é: 5\n",
      "O token de 'lowest' é: 2084\n",
      "O token de 'price' é: 18\n",
      "O token de 'pop' é: 434\n",
      "O token de 'filter' é: 502\n",
      "O token de 'amazon' é: 180\n",
      "O token de 'might' é: 181\n",
      "O token de 'well' é: 13\n",
      "O token de 'buy' é: 50\n",
      "O token de 'honestly' é: 938\n",
      "O token de 'work' é: 14\n",
      "O token de 'despite' é: 1194\n",
      "O token de 'pricing' é: 2927\n"
     ]
    }
   ],
   "source": [
    "#Checagem rápida se os tokens realmente estão funcionando como deveriam:\n",
    "\n",
    "phrase = texts[0].split(' ')\n",
    "\n",
    "for words in phrase:\n",
    "    \n",
    "    if words in word_index:\n",
    "        token = word_index[words]\n",
    "        print(f\"O token de '{words}' é: {token}\")\n",
    "    else:\n",
    "        print(f\"'{words}' não está no vocabulário.\")"
   ]
  },
  {
   "cell_type": "code",
   "execution_count": 22,
   "id": "432b4ccc",
   "metadata": {},
   "outputs": [],
   "source": [
    "#Padding para que todas as frases tenham o mesmo tamanho para a rede neural\n",
    "max_sequence_length = max(map(len, sequences))  #Achar a maior frase\n",
    "padded_sequences = tf.keras.preprocessing.sequence.pad_sequences(sequences, maxlen=max_sequence_length, padding='post')"
   ]
  },
  {
   "cell_type": "code",
   "execution_count": 23,
   "id": "7aea105c",
   "metadata": {},
   "outputs": [
    {
     "data": {
      "text/plain": [
       "array([  23, 1604,  318, ...,    0,    0,    0])"
      ]
     },
     "execution_count": 23,
     "metadata": {},
     "output_type": "execute_result"
    }
   ],
   "source": [
    "padded_sequences[0]"
   ]
  },
  {
   "cell_type": "code",
   "execution_count": 24,
   "id": "7464fd25",
   "metadata": {},
   "outputs": [
    {
     "data": {
      "text/plain": [
       "(10254, 1167)"
      ]
     },
     "execution_count": 24,
     "metadata": {},
     "output_type": "execute_result"
    }
   ],
   "source": [
    "padded_sequences.shape"
   ]
  },
  {
   "cell_type": "code",
   "execution_count": 25,
   "id": "df6dd46f",
   "metadata": {},
   "outputs": [],
   "source": [
    "#Para que o modelo funcione:\n",
    "padded_sequences = np.array(padded_sequences) "
   ]
  },
  {
   "cell_type": "code",
   "execution_count": 26,
   "id": "98b652c8",
   "metadata": {},
   "outputs": [
    {
     "data": {
      "text/plain": [
       "0        5.0\n",
       "1        5.0\n",
       "2        5.0\n",
       "3        5.0\n",
       "4        5.0\n",
       "        ... \n",
       "10256    5.0\n",
       "10257    5.0\n",
       "10258    4.0\n",
       "10259    4.0\n",
       "10260    4.0\n",
       "Name: overall, Length: 10254, dtype: float64"
      ]
     },
     "execution_count": 26,
     "metadata": {},
     "output_type": "execute_result"
    }
   ],
   "source": [
    "reviewTextScores['overall']"
   ]
  },
  {
   "cell_type": "markdown",
   "id": "79ee0ade",
   "metadata": {},
   "source": [
    "Podemos ver que foi adicionado o padding apropriadamente."
   ]
  },
  {
   "cell_type": "markdown",
   "id": "e7771089",
   "metadata": {},
   "source": [
    "## Modelo usando RNN simples"
   ]
  },
  {
   "cell_type": "code",
   "execution_count": 27,
   "id": "7024abb0",
   "metadata": {},
   "outputs": [],
   "source": [
    "#Vou considerar que reviews acima de 3 sao positivos e os iguais ou menores que 3 sao negativos.\n",
    "#Vou fazer dessa forma pois o dataset é muito enviesado para os positivos.\n",
    "#Assim podemos fazer uma classificacao binaria entre reviews positivos (1) e negativos (0)\n",
    "\n",
    "reviewTextScores['overall'] = (reviewTextScores['overall'] > 3.0).astype(int)"
   ]
  },
  {
   "cell_type": "code",
   "execution_count": 28,
   "id": "5b207428",
   "metadata": {},
   "outputs": [
    {
     "data": {
      "image/png": "[encoded data removed]",
      "text/plain": [
       "<Figure size 720x360 with 1 Axes>"
      ]
     },
     "metadata": {
      "needs_background": "light"
     },
     "output_type": "display_data"
    }
   ],
   "source": [
    "ax = reviewTextScores['overall'].value_counts().sort_index().plot(kind = 'bar', title = 'Números de review por rating', figsize = (10,5))\n",
    "ax.set_xlabel(\"Rating\")\n",
    "\n",
    "plt.show()"
   ]
  },
  {
   "cell_type": "code",
   "execution_count": 29,
   "id": "a4155234",
   "metadata": {},
   "outputs": [],
   "source": [
    "X_train, X_test, y_train, y_test = train_test_split(padded_sequences, reviewTextScores['overall'], test_size=0.2, random_state=42)"
   ]
  },
  {
   "cell_type": "code",
   "execution_count": 30,
   "id": "9a19aabf",
   "metadata": {},
   "outputs": [
    {
     "data": {
      "text/plain": [
       "(8203, 1167)"
      ]
     },
     "execution_count": 30,
     "metadata": {},
     "output_type": "execute_result"
    }
   ],
   "source": [
    "X_train.shape"
   ]
  },
  {
   "cell_type": "code",
   "execution_count": 31,
   "id": "308f54b7",
   "metadata": {},
   "outputs": [
    {
     "data": {
      "text/plain": [
       "(8203,)"
      ]
     },
     "execution_count": 31,
     "metadata": {},
     "output_type": "execute_result"
    }
   ],
   "source": [
    "y_train.shape"
   ]
  },
  {
   "cell_type": "code",
   "execution_count": 32,
   "id": "1e7485be",
   "metadata": {},
   "outputs": [
    {
     "name": "stdout",
     "output_type": "stream",
     "text": [
      "Model: \"sequential\"\n",
      "_________________________________________________________________\n",
      " Layer (type)                Output Shape              Param #   \n",
      "=================================================================\n",
      " embedding (Embedding)       (None, 1167, 100)         1935200   \n",
      "                                                                 \n",
      " simple_rnn (SimpleRNN)      (None, 128)               29312     \n",
      "                                                                 \n",
      " dense (Dense)               (None, 1)                 129       \n",
      "                                                                 \n",
      "=================================================================\n",
      "Total params: 1964641 (7.49 MB)\n",
      "Trainable params: 1964641 (7.49 MB)\n",
      "Non-trainable params: 0 (0.00 Byte)\n",
      "_________________________________________________________________\n",
      "Epoch 1/10\n",
      "103/103 [==============================] - 64s 613ms/step - loss: 0.3780 - accuracy: 0.8720 - val_loss: 0.3832 - val_accuracy: 0.8720\n",
      "Epoch 2/10\n",
      "103/103 [==============================] - 65s 632ms/step - loss: 0.3688 - accuracy: 0.8798 - val_loss: 0.3826 - val_accuracy: 0.8720\n",
      "Epoch 3/10\n",
      "103/103 [==============================] - 65s 629ms/step - loss: 0.3688 - accuracy: 0.8798 - val_loss: 0.3825 - val_accuracy: 0.8720\n",
      "Epoch 4/10\n",
      "103/103 [==============================] - 65s 631ms/step - loss: 0.3683 - accuracy: 0.8798 - val_loss: 0.3939 - val_accuracy: 0.8720\n",
      "Epoch 5/10\n",
      "103/103 [==============================] - 65s 634ms/step - loss: 0.3696 - accuracy: 0.8798 - val_loss: 0.3825 - val_accuracy: 0.8720\n",
      "Epoch 6/10\n",
      "103/103 [==============================] - 66s 639ms/step - loss: 0.3692 - accuracy: 0.8798 - val_loss: 0.3830 - val_accuracy: 0.8720\n",
      "Epoch 7/10\n",
      "103/103 [==============================] - 66s 637ms/step - loss: 0.3688 - accuracy: 0.8798 - val_loss: 0.3825 - val_accuracy: 0.8720\n",
      "Epoch 8/10\n",
      "103/103 [==============================] - 66s 645ms/step - loss: 0.3681 - accuracy: 0.8798 - val_loss: 0.3837 - val_accuracy: 0.8720\n",
      "Epoch 9/10\n",
      "103/103 [==============================] - 66s 645ms/step - loss: 0.3694 - accuracy: 0.8798 - val_loss: 0.3826 - val_accuracy: 0.8720\n",
      "Epoch 10/10\n",
      "103/103 [==============================] - 66s 644ms/step - loss: 0.3681 - accuracy: 0.8798 - val_loss: 0.3825 - val_accuracy: 0.8720\n"
     ]
    },
    {
     "data": {
      "text/plain": [
       "<keras.src.callbacks.History at 0x1f3fdbec220>"
      ]
     },
     "execution_count": 32,
     "metadata": {},
     "output_type": "execute_result"
    }
   ],
   "source": [
    "#Implementação do modelo - RNN simples\n",
    "labels = y_train #Para ver se ele encontra um valor próximo que o review deveria ser\n",
    "vocab_size = len(tokenizer.word_index) + 1 #+1 para OOV\n",
    "embedding_dim = 100  \n",
    "max_sequence_length = padded_sequences.shape[1]  \n",
    "\n",
    "model = Sequential([\n",
    "    Embedding(input_dim=vocab_size, output_dim=embedding_dim, input_length=max_sequence_length),\n",
    "    SimpleRNN(units=128),  \n",
    "    Dense(units=1, activation='sigmoid') \n",
    "    \n",
    "])\n",
    "\n",
    "\n",
    "model.compile(optimizer='adam', loss='binary_crossentropy', metrics=['accuracy'])\n",
    "\n",
    "\n",
    "model.summary()\n",
    "\n",
    "\n",
    "batch_size = 64\n",
    "num_epochs = 10\n",
    "model.fit(X_train, labels, batch_size=batch_size, epochs=num_epochs, validation_split=0.2)"
   ]
  },
  {
   "cell_type": "code",
   "execution_count": 33,
   "id": "5da3f8d4",
   "metadata": {},
   "outputs": [
    {
     "name": "stdout",
     "output_type": "stream",
     "text": [
      "65/65 [==============================] - 6s 85ms/step\n"
     ]
    }
   ],
   "source": [
    "predictions = model.predict(X_test)\n",
    "\n",
    "predicted_classes = (predictions > 0.5).astype(int)"
   ]
  },
  {
   "cell_type": "code",
   "execution_count": 34,
   "id": "57c85e6d",
   "metadata": {},
   "outputs": [
    {
     "name": "stdout",
     "output_type": "stream",
     "text": [
      "Accuracy: 0.8829839102876645\n",
      "Precision: 0.8829839102876645\n",
      "F1-Score: 0.9378560331434489\n"
     ]
    }
   ],
   "source": [
    "accuracy = accuracy_score(y_test, predicted_classes)\n",
    "precision = precision_score(y_test, predicted_classes)\n",
    "f1 = f1_score(y_test, predicted_classes)\n",
    "\n",
    "print(f\"Accuracy: {accuracy}\")\n",
    "print(f\"Precision: {precision}\")\n",
    "print(f\"F1-Score: {f1}\")"
   ]
  },
  {
   "cell_type": "code",
   "execution_count": 35,
   "id": "402dceb2",
   "metadata": {},
   "outputs": [
    {
     "name": "stdout",
     "output_type": "stream",
     "text": [
      "Model: \"sequential_1\"\n",
      "_________________________________________________________________\n",
      " Layer (type)                Output Shape              Param #   \n",
      "=================================================================\n",
      " embedding_1 (Embedding)     (None, 1167, 100)         1935200   \n",
      "                                                                 \n",
      " lstm (LSTM)                 (None, 16)                7488      \n",
      "                                                                 \n",
      " dense_1 (Dense)             (None, 1)                 17        \n",
      "                                                                 \n",
      "=================================================================\n",
      "Total params: 1942705 (7.41 MB)\n",
      "Trainable params: 1942705 (7.41 MB)\n",
      "Non-trainable params: 0 (0.00 Byte)\n",
      "_________________________________________________________________\n",
      "Epoch 1/10\n",
      "206/206 [==============================] - 90s 430ms/step - loss: 0.3907 - accuracy: 0.8764 - val_loss: 0.3829 - val_accuracy: 0.8720\n",
      "Epoch 2/10\n",
      "206/206 [==============================] - 86s 420ms/step - loss: 0.3679 - accuracy: 0.8798 - val_loss: 0.3827 - val_accuracy: 0.8720\n",
      "Epoch 3/10\n",
      "206/206 [==============================] - 87s 425ms/step - loss: 0.3678 - accuracy: 0.8798 - val_loss: 0.3827 - val_accuracy: 0.8720\n",
      "Epoch 4/10\n",
      "206/206 [==============================] - 87s 424ms/step - loss: 0.3681 - accuracy: 0.8798 - val_loss: 0.3825 - val_accuracy: 0.8720\n",
      "Epoch 5/10\n",
      "206/206 [==============================] - 92s 447ms/step - loss: 0.3678 - accuracy: 0.8798 - val_loss: 0.3826 - val_accuracy: 0.8720\n",
      "Epoch 6/10\n",
      "206/206 [==============================] - 89s 430ms/step - loss: 0.3679 - accuracy: 0.8798 - val_loss: 0.3840 - val_accuracy: 0.8720\n",
      "Epoch 7/10\n",
      "206/206 [==============================] - 90s 435ms/step - loss: 0.3678 - accuracy: 0.8798 - val_loss: 0.3841 - val_accuracy: 0.8720\n",
      "Epoch 8/10\n",
      "206/206 [==============================] - 90s 439ms/step - loss: 0.3678 - accuracy: 0.8798 - val_loss: 0.3825 - val_accuracy: 0.8720\n",
      "Epoch 9/10\n",
      "206/206 [==============================] - 88s 425ms/step - loss: 0.3676 - accuracy: 0.8798 - val_loss: 0.3831 - val_accuracy: 0.8720\n",
      "Epoch 10/10\n",
      "206/206 [==============================] - 86s 416ms/step - loss: 0.3680 - accuracy: 0.8798 - val_loss: 0.3825 - val_accuracy: 0.8720\n"
     ]
    },
    {
     "data": {
      "text/plain": [
       "<keras.src.callbacks.History at 0x1f3876fc3a0>"
      ]
     },
     "execution_count": 35,
     "metadata": {},
     "output_type": "execute_result"
    }
   ],
   "source": [
    "#Implementação do modelo - LSTM unidirecional \n",
    "labels = y_train #Para ver se ele encontra um valor próximo que o review deveria ser\n",
    "vocab_size = len(tokenizer.word_index) + 1  \n",
    "embedding_dim = 100  \n",
    "max_sequence_length = padded_sequences.shape[1]  \n",
    "\n",
    "model = Sequential([\n",
    "    Embedding(input_dim=vocab_size, output_dim=embedding_dim, input_length=max_sequence_length),\n",
    "    LSTM(units=16),\n",
    "    Dense(units=1, activation='sigmoid') \n",
    "    \n",
    "])\n",
    "\n",
    "\n",
    "model.compile(optimizer='adam', loss='binary_crossentropy', metrics=['accuracy'])\n",
    "\n",
    "\n",
    "model.summary()\n",
    "\n",
    "\n",
    "batch_size = 32\n",
    "num_epochs = 10\n",
    "model.fit(X_train, labels, batch_size=batch_size, epochs=num_epochs, validation_split=0.2)"
   ]
  },
  {
   "cell_type": "code",
   "execution_count": 36,
   "id": "f8ac08a5",
   "metadata": {},
   "outputs": [
    {
     "name": "stdout",
     "output_type": "stream",
     "text": [
      "65/65 [==============================] - 6s 90ms/step\n",
      "Accuracy: 0.8829839102876645\n",
      "Precision: 0.8829839102876645\n",
      "F1-Score: 0.9378560331434489\n"
     ]
    }
   ],
   "source": [
    "predictions = model.predict(X_test)\n",
    "\n",
    "predicted_classes = (predictions > 0.5).astype(int)\n",
    "\n",
    "accuracy = accuracy_score(y_test, predicted_classes)\n",
    "precision = precision_score(y_test, predicted_classes)\n",
    "f1 = f1_score(y_test, predicted_classes)\n",
    "\n",
    "print(f\"Accuracy: {accuracy}\")\n",
    "print(f\"Precision: {precision}\")\n",
    "print(f\"F1-Score: {f1}\")"
   ]
  },
  {
   "cell_type": "code",
   "execution_count": 37,
   "id": "14a2dc02",
   "metadata": {},
   "outputs": [
    {
     "name": "stdout",
     "output_type": "stream",
     "text": [
      "Model: \"sequential_2\"\n",
      "_________________________________________________________________\n",
      " Layer (type)                Output Shape              Param #   \n",
      "=================================================================\n",
      " embedding_2 (Embedding)     (None, 1167, 100)         1935200   \n",
      "                                                                 \n",
      " bidirectional (Bidirection  (None, 32)                14976     \n",
      " al)                                                             \n",
      "                                                                 \n",
      " dense_2 (Dense)             (None, 1)                 33        \n",
      "                                                                 \n",
      "=================================================================\n",
      "Total params: 1950209 (7.44 MB)\n",
      "Trainable params: 1950209 (7.44 MB)\n",
      "Non-trainable params: 0 (0.00 Byte)\n",
      "_________________________________________________________________\n",
      "Epoch 1/10\n",
      "206/206 [==============================] - 128s 606ms/step - loss: 0.3771 - accuracy: 0.8744 - val_loss: 0.3413 - val_accuracy: 0.8720\n",
      "Epoch 2/10\n",
      "206/206 [==============================] - 123s 598ms/step - loss: 0.2527 - accuracy: 0.8959 - val_loss: 0.3315 - val_accuracy: 0.8739\n",
      "Epoch 3/10\n",
      "206/206 [==============================] - 128s 621ms/step - loss: 0.1592 - accuracy: 0.9506 - val_loss: 0.3782 - val_accuracy: 0.8544\n",
      "Epoch 4/10\n",
      "206/206 [==============================] - 122s 593ms/step - loss: 0.0950 - accuracy: 0.9718 - val_loss: 0.4836 - val_accuracy: 0.8592\n",
      "Epoch 5/10\n",
      "206/206 [==============================] - 122s 594ms/step - loss: 0.0587 - accuracy: 0.9858 - val_loss: 0.5488 - val_accuracy: 0.8562\n",
      "Epoch 6/10\n",
      "206/206 [==============================] - 122s 594ms/step - loss: 0.0400 - accuracy: 0.9913 - val_loss: 0.5881 - val_accuracy: 0.8580\n",
      "Epoch 7/10\n",
      "206/206 [==============================] - 119s 577ms/step - loss: 0.0277 - accuracy: 0.9951 - val_loss: 0.6066 - val_accuracy: 0.8342\n",
      "Epoch 8/10\n",
      "206/206 [==============================] - 122s 591ms/step - loss: 0.0224 - accuracy: 0.9956 - val_loss: 0.6533 - val_accuracy: 0.8513\n",
      "Epoch 9/10\n",
      "206/206 [==============================] - 122s 593ms/step - loss: 0.0199 - accuracy: 0.9965 - val_loss: 0.6842 - val_accuracy: 0.8550\n",
      "Epoch 10/10\n",
      "206/206 [==============================] - 126s 611ms/step - loss: 0.0207 - accuracy: 0.9944 - val_loss: 0.7152 - val_accuracy: 0.8574\n"
     ]
    },
    {
     "data": {
      "text/plain": [
       "<keras.src.callbacks.History at 0x1f38c29e040>"
      ]
     },
     "execution_count": 37,
     "metadata": {},
     "output_type": "execute_result"
    }
   ],
   "source": [
    "#Implementação do modelo - LSTM bidirecional \n",
    "labels = y_train #Para ver se ele encontra um valor próximo que o review deveria ser\n",
    "vocab_size = len(tokenizer.word_index) + 1  \n",
    "embedding_dim = 100  \n",
    "max_sequence_length = padded_sequences.shape[1]  \n",
    "\n",
    "model = Sequential([\n",
    "    Embedding(input_dim=vocab_size, output_dim=embedding_dim, input_length=max_sequence_length),\n",
    "    Bidirectional(LSTM(units=16)),\n",
    "    Dense(units=1, activation='sigmoid') \n",
    "    \n",
    "])\n",
    "\n",
    "\n",
    "model.compile(optimizer='adam', loss='binary_crossentropy', metrics=['accuracy'])\n",
    "\n",
    "\n",
    "model.summary()\n",
    "\n",
    "\n",
    "batch_size = 32\n",
    "num_epochs = 10\n",
    "model.fit(X_train, labels, batch_size=batch_size, epochs=num_epochs, validation_split=0.2)"
   ]
  },
  {
   "cell_type": "code",
   "execution_count": 38,
   "id": "e59a22ee",
   "metadata": {},
   "outputs": [
    {
     "name": "stdout",
     "output_type": "stream",
     "text": [
      "65/65 [==============================] - 9s 133ms/step\n",
      "Accuracy: 0.8649439297903462\n",
      "Precision: 0.8965873836608066\n",
      "F1-Score: 0.9260347129506008\n"
     ]
    }
   ],
   "source": [
    "predictions = model.predict(X_test)\n",
    "\n",
    "predicted_classes = (predictions > 0.5).astype(int)\n",
    "\n",
    "accuracy = accuracy_score(y_test, predicted_classes)\n",
    "precision = precision_score(y_test, predicted_classes)\n",
    "f1 = f1_score(y_test, predicted_classes)\n",
    "\n",
    "print(f\"Accuracy: {accuracy}\")\n",
    "print(f\"Precision: {precision}\")\n",
    "print(f\"F1-Score: {f1}\")"
   ]
  }
 ],
 "metadata": {
  "kernelspec": {
   "display_name": "Python 3 (ipykernel)",
   "language": "python",
   "name": "python3"
  },
  "language_info": {
   "codemirror_mode": {
    "name": "ipython",
    "version": 3
   },
   "file_extension": ".py",
   "mimetype": "text/x-python",
   "name": "python",
   "nbconvert_exporter": "python",
   "pygments_lexer": "ipython3",
   "version": "3.9.12"
  }
 },
 "nbformat": 4,
 "nbformat_minor": 5
}
